{
 "cells": [
  {
   "cell_type": "code",
   "execution_count": 3,
   "metadata": {},
   "outputs": [
    {
     "name": "stdout",
     "output_type": "stream",
     "text": [
      "current time is :  time.struct_time(tm_year=2025, tm_mon=1, tm_mday=21, tm_hour=15, tm_min=40, tm_sec=27, tm_wday=1, tm_yday=21, tm_isdst=0)\n"
     ]
    }
   ],
   "source": [
    "import time\n",
    "currenttime = time.localtime(time.time())\n",
    "print(\"current time is : \",currenttime)"
   ]
  },
  {
   "cell_type": "code",
   "execution_count": 3,
   "metadata": {},
   "outputs": [
    {
     "name": "stdout",
     "output_type": "stream",
     "text": [
      "welcome to my world\n",
      "this massage prints after wait of 5 seconds\n"
     ]
    }
   ],
   "source": [
    "import time\n",
    "print(\"welcome to my world\")\n",
    "time.sleep(5)\n",
    "print(\"this massage prints after wait of 5 seconds\")"
   ]
  },
  {
   "cell_type": "code",
   "execution_count": null,
   "metadata": {},
   "outputs": [],
   "source": []
  }
 ],
 "metadata": {
  "kernelspec": {
   "display_name": "venv",
   "language": "python",
   "name": "python3"
  },
  "language_info": {
   "codemirror_mode": {
    "name": "ipython",
    "version": 3
   },
   "file_extension": ".py",
   "mimetype": "text/x-python",
   "name": "python",
   "nbconvert_exporter": "python",
   "pygments_lexer": "ipython3",
   "version": "3.11.7"
  }
 },
 "nbformat": 4,
 "nbformat_minor": 2
}
