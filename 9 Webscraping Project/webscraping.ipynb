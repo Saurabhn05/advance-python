{
 "cells": [
  {
   "cell_type": "markdown",
   "metadata": {},
   "source": [
    "## Webscraping - Data Colloction"
   ]
  },
  {
   "cell_type": "code",
   "execution_count": 1,
   "metadata": {},
   "outputs": [
    {
     "name": "stdout",
     "output_type": "stream",
     "text": [
      "Requirement already satisfied: requests in c:\\users\\saura\\advance python\\repository\\venv\\lib\\site-packages (2.32.3)\n",
      "Requirement already satisfied: beautifulsoup4 in c:\\users\\saura\\advance python\\repository\\venv\\lib\\site-packages (4.12.3)\n",
      "Collecting lxml\n",
      "  Downloading lxml-5.3.0-cp311-cp311-win_amd64.whl.metadata (3.9 kB)\n",
      "Requirement already satisfied: charset-normalizer<4,>=2 in c:\\users\\saura\\advance python\\repository\\venv\\lib\\site-packages (from requests) (3.4.0)\n",
      "Requirement already satisfied: idna<4,>=2.5 in c:\\users\\saura\\advance python\\repository\\venv\\lib\\site-packages (from requests) (3.10)\n",
      "Requirement already satisfied: urllib3<3,>=1.21.1 in c:\\users\\saura\\advance python\\repository\\venv\\lib\\site-packages (from requests) (2.2.3)\n",
      "Requirement already satisfied: certifi>=2017.4.17 in c:\\users\\saura\\advance python\\repository\\venv\\lib\\site-packages (from requests) (2024.8.30)\n",
      "Requirement already satisfied: soupsieve>1.2 in c:\\users\\saura\\advance python\\repository\\venv\\lib\\site-packages (from beautifulsoup4) (2.6)\n",
      "Downloading lxml-5.3.0-cp311-cp311-win_amd64.whl (3.8 MB)\n",
      "   ---------------------------------------- 0.0/3.8 MB ? eta -:--:--\n",
      "   ---------------------------------------- 0.0/3.8 MB ? eta -:--:--\n",
      "   ---------------------------------------- 0.0/3.8 MB ? eta -:--:--\n",
      "   ---------------------------------------- 0.0/3.8 MB ? eta -:--:--\n",
      "   ---------------------------------------- 0.0/3.8 MB ? eta -:--:--\n",
      "   -- ------------------------------------- 0.3/3.8 MB ? eta -:--:--\n",
      "   -- ------------------------------------- 0.3/3.8 MB ? eta -:--:--\n",
      "   -- ------------------------------------- 0.3/3.8 MB ? eta -:--:--\n",
      "   -- ------------------------------------- 0.3/3.8 MB ? eta -:--:--\n",
      "   ----- ---------------------------------- 0.5/3.8 MB 364.6 kB/s eta 0:00:10\n",
      "   ----- ---------------------------------- 0.5/3.8 MB 364.6 kB/s eta 0:00:10\n",
      "   -------- ------------------------------- 0.8/3.8 MB 453.1 kB/s eta 0:00:07\n",
      "   -------- ------------------------------- 0.8/3.8 MB 453.1 kB/s eta 0:00:07\n",
      "   ---------- ----------------------------- 1.0/3.8 MB 474.6 kB/s eta 0:00:06\n",
      "   ---------- ----------------------------- 1.0/3.8 MB 474.6 kB/s eta 0:00:06\n",
      "   ------------- -------------------------- 1.3/3.8 MB 520.1 kB/s eta 0:00:05\n",
      "   ------------- -------------------------- 1.3/3.8 MB 520.1 kB/s eta 0:00:05\n",
      "   ---------------- ----------------------- 1.6/3.8 MB 530.9 kB/s eta 0:00:05\n",
      "   ---------------- ----------------------- 1.6/3.8 MB 530.9 kB/s eta 0:00:05\n",
      "   ------------------- -------------------- 1.8/3.8 MB 553.0 kB/s eta 0:00:04\n",
      "   ------------------- -------------------- 1.8/3.8 MB 553.0 kB/s eta 0:00:04\n",
      "   ------------------- -------------------- 1.8/3.8 MB 553.0 kB/s eta 0:00:04\n",
      "   --------------------- ------------------ 2.1/3.8 MB 526.5 kB/s eta 0:00:04\n",
      "   --------------------- ------------------ 2.1/3.8 MB 526.5 kB/s eta 0:00:04\n",
      "   ------------------------ --------------- 2.4/3.8 MB 532.5 kB/s eta 0:00:03\n",
      "   ------------------------ --------------- 2.4/3.8 MB 532.5 kB/s eta 0:00:03\n",
      "   ------------------------ --------------- 2.4/3.8 MB 532.5 kB/s eta 0:00:03\n",
      "   --------------------------- ------------ 2.6/3.8 MB 524.3 kB/s eta 0:00:03\n",
      "   --------------------------- ------------ 2.6/3.8 MB 524.3 kB/s eta 0:00:03\n",
      "   --------------------------- ------------ 2.6/3.8 MB 524.3 kB/s eta 0:00:03\n",
      "   ------------------------------ --------- 2.9/3.8 MB 509.9 kB/s eta 0:00:02\n",
      "   ------------------------------ --------- 2.9/3.8 MB 509.9 kB/s eta 0:00:02\n",
      "   -------------------------------- ------- 3.1/3.8 MB 509.7 kB/s eta 0:00:02\n",
      "   ----------------------------------- ---- 3.4/3.8 MB 529.8 kB/s eta 0:00:01\n",
      "   ----------------------------------- ---- 3.4/3.8 MB 529.8 kB/s eta 0:00:01\n",
      "   ----------------------------------- ---- 3.4/3.8 MB 529.8 kB/s eta 0:00:01\n",
      "   -------------------------------------- - 3.7/3.8 MB 530.7 kB/s eta 0:00:01\n",
      "   ---------------------------------------- 3.8/3.8 MB 521.5 kB/s eta 0:00:00\n",
      "Installing collected packages: lxml\n",
      "Successfully installed lxml-5.3.0\n",
      "Note: you may need to restart the kernel to use updated packages.\n"
     ]
    }
   ],
   "source": [
    "%pip install requests beautifulsoup4 lxml"
   ]
  },
  {
   "cell_type": "code",
   "execution_count": null,
   "metadata": {},
   "outputs": [],
   "source": []
  }
 ],
 "metadata": {
  "kernelspec": {
   "display_name": "venv",
   "language": "python",
   "name": "python3"
  },
  "language_info": {
   "codemirror_mode": {
    "name": "ipython",
    "version": 3
   },
   "file_extension": ".py",
   "mimetype": "text/x-python",
   "name": "python",
   "nbconvert_exporter": "python",
   "pygments_lexer": "ipython3",
   "version": "3.11.7"
  }
 },
 "nbformat": 4,
 "nbformat_minor": 2
}
